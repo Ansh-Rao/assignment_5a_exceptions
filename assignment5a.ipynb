{
 "cells": [
  {
   "cell_type": "markdown",
   "id": "6010ab64-ea2c-4b05-b3cf-10ea5b0289a9",
   "metadata": {},
   "source": [
    "#### Q1. What is an Exception in python? Write the difference between Exceptions and syntax errors ."
   ]
  },
  {
   "cell_type": "code",
   "execution_count": 17,
   "id": "e8a88020-16ad-422f-82e8-1c6690ac1b2e",
   "metadata": {},
   "outputs": [],
   "source": [
    "# An Exception is an error that happens during the execution of a program. It is also known as a run time error."
   ]
  },
  {
   "cell_type": "code",
   "execution_count": 2,
   "id": "0fcc09dd-a4e6-4269-b617-1cf76ac9dee9",
   "metadata": {},
   "outputs": [],
   "source": [
    "#  Syntax Errors are problems in a program due to which the program will stop the execution. \n",
    "# On the other hand, Exceptions are raised when some internal events occur which change the normal flow of the program"
   ]
  },
  {
   "cell_type": "code",
   "execution_count": null,
   "id": "9de08934-771b-4465-bdc7-7bc4e4d7d8f5",
   "metadata": {},
   "outputs": [],
   "source": []
  },
  {
   "cell_type": "markdown",
   "id": "3b78db5d-88c3-4e90-b34f-bbe8c1e9b696",
   "metadata": {},
   "source": [
    "#### Q2. What happens when an exception is not handled ? Explain with an example ."
   ]
  },
  {
   "cell_type": "code",
   "execution_count": 3,
   "id": "1760a0af-d3f6-4920-8912-2d7604deaa22",
   "metadata": {},
   "outputs": [],
   "source": [
    "#  If an exception is not handled , then the program terminates abruptly and the code past the line that caused the exception will not get executed."
   ]
  },
  {
   "cell_type": "code",
   "execution_count": 6,
   "id": "ec9cc6ee-6016-43ea-9637-0e97f449760a",
   "metadata": {},
   "outputs": [],
   "source": [
    "# example\n",
    "a=10"
   ]
  },
  {
   "cell_type": "code",
   "execution_count": 7,
   "id": "cb6161b6-5c30-464e-8ccc-3910aa88bde7",
   "metadata": {},
   "outputs": [
    {
     "ename": "ZeroDivisionError",
     "evalue": "division by zero",
     "output_type": "error",
     "traceback": [
      "\u001b[0;31m---------------------------------------------------------------------------\u001b[0m",
      "\u001b[0;31mZeroDivisionError\u001b[0m                         Traceback (most recent call last)",
      "Cell \u001b[0;32mIn[7], line 1\u001b[0m\n\u001b[0;32m----> 1\u001b[0m \u001b[43ma\u001b[49m\u001b[38;5;241;43m/\u001b[39;49m\u001b[38;5;241;43m0\u001b[39;49m\n",
      "\u001b[0;31mZeroDivisionError\u001b[0m: division by zero"
     ]
    }
   ],
   "source": [
    "a/0"
   ]
  },
  {
   "cell_type": "code",
   "execution_count": null,
   "id": "e0b001c5-4f00-435c-92f7-14af09b29658",
   "metadata": {},
   "outputs": [],
   "source": []
  },
  {
   "cell_type": "markdown",
   "id": "cb647a0e-3d1f-421f-af81-eeb9221f6aa2",
   "metadata": {},
   "source": [
    "#### Q3. Which Python statements are used to catch and handle exceptions? Explain with an example ."
   ]
  },
  {
   "cell_type": "code",
   "execution_count": null,
   "id": "646044e3-d980-416f-ac52-37feb61ec6a8",
   "metadata": {},
   "outputs": [],
   "source": [
    "# The try and except block in Python is used to catch and handle exceptions. "
   ]
  },
  {
   "cell_type": "code",
   "execution_count": 8,
   "id": "1ac25c35-95c2-47f9-92f3-f063fc57bd81",
   "metadata": {},
   "outputs": [
    {
     "name": "stdout",
     "output_type": "stream",
     "text": [
      "invalid literal for int() with base 10: 'ansh'\n"
     ]
    }
   ],
   "source": [
    "try :\n",
    "    int(\"ansh\")                     # error \n",
    "except (ValueError , TypeError) as e :   \n",
    "    print(e)"
   ]
  },
  {
   "cell_type": "code",
   "execution_count": 13,
   "id": "3923eb96-cd6c-4f8c-96e0-f0d08433cba4",
   "metadata": {},
   "outputs": [
    {
     "name": "stdout",
     "output_type": "stream",
     "text": [
      "this will catch an error\n"
     ]
    }
   ],
   "source": [
    "#examples :-\n",
    "try:\n",
    "    int(\"ansh\")\n",
    "except:                       # it automatecally handle the errors\n",
    "    print(\"this will catch an error\")"
   ]
  },
  {
   "cell_type": "code",
   "execution_count": 14,
   "id": "a799df91-4e23-4d55-b049-17da46b20ae0",
   "metadata": {},
   "outputs": [
    {
     "name": "stdout",
     "output_type": "stream",
     "text": [
      "No module named 'ansh'\n"
     ]
    },
    {
     "data": {
      "text/plain": [
       "2.5"
      ]
     },
     "execution_count": 14,
     "metadata": {},
     "output_type": "execute_result"
    }
   ],
   "source": [
    "try:\n",
    "    import ansh    # import error\n",
    "except ImportError as e :                    \n",
    "    print(e)\n",
    "10/4"
   ]
  },
  {
   "cell_type": "code",
   "execution_count": 16,
   "id": "be1985bf-7c76-4a2f-9c2a-60c8a38965ae",
   "metadata": {},
   "outputs": [
    {
     "name": "stdout",
     "output_type": "stream",
     "text": [
      "'str' object has no attribute 'test'\n"
     ]
    }
   ],
   "source": [
    "try:\n",
    "    \"ansh\".test()\n",
    "except AttributeError as e:\n",
    "    print(e)"
   ]
  },
  {
   "cell_type": "code",
   "execution_count": null,
   "id": "1b8b57a1-8909-4b87-a831-8f6a55697ab4",
   "metadata": {},
   "outputs": [],
   "source": []
  },
  {
   "cell_type": "markdown",
   "id": "a8c37ede-b4b9-4491-928c-5126f9367b8b",
   "metadata": {},
   "source": [
    "#### Q4. Explain with an example: \n",
    "\n",
    "#### a. try and else\n",
    "#### b. finally\n",
    "#### c. raise "
   ]
  },
  {
   "cell_type": "code",
   "execution_count": 19,
   "id": "1ebca035-690c-4578-b270-45d24ca49a2e",
   "metadata": {},
   "outputs": [],
   "source": [
    "# a)  Try: This block will test the excepted error to occur\n",
    "#     Else: If there is no exception then this block will be executed\n",
    "\n",
    "# example  \n",
    " \n",
    "def divide(x, y):\n",
    "    try:\n",
    "        result = x // y\n",
    "    except ZeroDivisionError:\n",
    "        print(\"Sorry ! You are dividing by zero \")\n",
    "    else:\n",
    "        print(\"Yeah ! Your answer is :\", result)"
   ]
  },
  {
   "cell_type": "code",
   "execution_count": 21,
   "id": "672d86a4-f64e-49ab-a443-f6c5160ff836",
   "metadata": {},
   "outputs": [
    {
     "name": "stdout",
     "output_type": "stream",
     "text": [
      "Yeah ! Your answer is : 2\n",
      "Sorry ! You are dividing by zero \n"
     ]
    }
   ],
   "source": [
    "divide(4, 2)\n",
    "divide(4, 0)"
   ]
  },
  {
   "cell_type": "code",
   "execution_count": null,
   "id": "4cb22063-d673-4a03-a01c-66786394be5c",
   "metadata": {},
   "outputs": [],
   "source": []
  },
  {
   "cell_type": "code",
   "execution_count": 22,
   "id": "5da321e1-0613-4219-b2a4-146bca9d0af4",
   "metadata": {},
   "outputs": [],
   "source": [
    "# b)  Finally: Finally block always gets executed either exception is generated or not\n",
    "\n",
    "# example  \n",
    "\n",
    "def divide(x, y):\n",
    "    try:\n",
    "        result = x // y\n",
    "    except ZeroDivisionError:\n",
    "        print(\"Sorry ! You are dividing by zero \")\n",
    "    else:\n",
    "        print(\"Yeah ! Your answer is :\", result)\n",
    "    finally: \n",
    "        print('This is always executed')  "
   ]
  },
  {
   "cell_type": "code",
   "execution_count": 23,
   "id": "35e0c0e8-90a2-49a3-a187-10fcf4d70d49",
   "metadata": {},
   "outputs": [
    {
     "name": "stdout",
     "output_type": "stream",
     "text": [
      "Yeah ! Your answer is : 2\n",
      "This is always executed\n",
      "Sorry ! You are dividing by zero \n",
      "This is always executed\n"
     ]
    }
   ],
   "source": [
    "divide(4, 2)\n",
    "divide(4, 0)"
   ]
  },
  {
   "cell_type": "code",
   "execution_count": null,
   "id": "4781ae69-6911-4dd0-9641-0a44986d54f8",
   "metadata": {},
   "outputs": [],
   "source": []
  },
  {
   "cell_type": "code",
   "execution_count": 28,
   "id": "4de0de70-c625-4f72-8295-0b13fe0fffd6",
   "metadata": {},
   "outputs": [
    {
     "ename": "Exception",
     "evalue": "The number shouldn't be an odd integer",
     "output_type": "error",
     "traceback": [
      "\u001b[0;31m---------------------------------------------------------------------------\u001b[0m",
      "\u001b[0;31mException\u001b[0m                                 Traceback (most recent call last)",
      "Cell \u001b[0;32mIn[28], line 7\u001b[0m\n\u001b[1;32m      5\u001b[0m a \u001b[38;5;241m=\u001b[39m \u001b[38;5;241m5\u001b[39m\n\u001b[1;32m      6\u001b[0m \u001b[38;5;28;01mif\u001b[39;00m a \u001b[38;5;241m%\u001b[39m \u001b[38;5;241m2\u001b[39m \u001b[38;5;241m!=\u001b[39m \u001b[38;5;241m0\u001b[39m:\n\u001b[0;32m----> 7\u001b[0m     \u001b[38;5;28;01mraise\u001b[39;00m \u001b[38;5;167;01mException\u001b[39;00m(\u001b[38;5;124m\"\u001b[39m\u001b[38;5;124mThe number shouldn\u001b[39m\u001b[38;5;124m'\u001b[39m\u001b[38;5;124mt be an odd integer\u001b[39m\u001b[38;5;124m\"\u001b[39m)\n",
      "\u001b[0;31mException\u001b[0m: The number shouldn't be an odd integer"
     ]
    }
   ],
   "source": [
    "# c) Raise : it is used to raise exceptions or errors. \n",
    "\n",
    "#example \n",
    "\n",
    "a = 5\n",
    "if a % 2 != 0:\n",
    "    raise Exception(\"The number shouldn't be an odd integer\")"
   ]
  },
  {
   "cell_type": "code",
   "execution_count": null,
   "id": "de3573aa-19df-4016-b830-5ee5b3c3588a",
   "metadata": {},
   "outputs": [],
   "source": []
  },
  {
   "cell_type": "markdown",
   "id": "c9ad92d2-7f93-4541-bcd3-0b4eb94c6330",
   "metadata": {},
   "source": [
    "#### Q5. What are Custom Exceptions in python ? Why do we need Custom Exceptions? Explain with an example ."
   ]
  },
  {
   "cell_type": "code",
   "execution_count": 30,
   "id": "828beef3-8030-4bea-926b-a78bb5fe2ca3",
   "metadata": {},
   "outputs": [],
   "source": [
    "# Custom exceptions are useful in situations where you want to handle specific errors in a program."
   ]
  },
  {
   "cell_type": "code",
   "execution_count": null,
   "id": "567da1de-cf17-489a-b35a-f242b2629c60",
   "metadata": {},
   "outputs": [],
   "source": [
    "# We need Custom Exceptions to customize the exception according to user need."
   ]
  },
  {
   "cell_type": "code",
   "execution_count": 32,
   "id": "9c1c1a3c-72ff-4477-aa6a-05a65b5bfd57",
   "metadata": {},
   "outputs": [
    {
     "name": "stdout",
     "output_type": "stream",
     "text": [
      "FileNotFoundError successfully handled \n"
     ]
    }
   ],
   "source": [
    "# For example, suppose you are writing a program that reads data from a file. If the file does not exist, Python will raise a FileNotFoundError exception.\n",
    "\n",
    "try:\n",
    "    x = open('random.txt')\n",
    "except FileNotFoundError as e:\n",
    "    print(\"FileNotFoundError successfully handled \")          "
   ]
  },
  {
   "cell_type": "code",
   "execution_count": null,
   "id": "646f53f8-c3b4-47c9-b215-834c3da436f5",
   "metadata": {},
   "outputs": [],
   "source": []
  },
  {
   "cell_type": "markdown",
   "id": "d0ee3c4f-cfdc-40dc-af12-abc43b4c28d8",
   "metadata": {},
   "source": [
    "#### Q6. Create a custom exception class. Use this class to handle an exception."
   ]
  },
  {
   "cell_type": "code",
   "execution_count": 37,
   "id": "f96f61e1-f011-4629-9a6a-1650375e8eb0",
   "metadata": {},
   "outputs": [
    {
     "name": "stdin",
     "output_type": "stream",
     "text": [
      "Enter a number:  22\n"
     ]
    },
    {
     "name": "stdout",
     "output_type": "stream",
     "text": [
      "Eligible to Vote\n"
     ]
    }
   ],
   "source": [
    "class InvalidAgeException(Exception):\n",
    "    \"Raised when the input value is less than 18\"\n",
    "    pass\n",
    "number = 18\n",
    "\n",
    "try:\n",
    "    input_num = int(input(\"Enter a number: \"))\n",
    "    if input_num < number:\n",
    "        raise InvalidAgeException\n",
    "    else:\n",
    "        print(\"Eligible to Vote\")\n",
    "        \n",
    "except InvalidAgeException:\n",
    "    print(\"Exception occurred: Invalid Age\")"
   ]
  },
  {
   "cell_type": "code",
   "execution_count": null,
   "id": "31414090-3c09-4ca8-b997-b559a604ee7e",
   "metadata": {},
   "outputs": [],
   "source": []
  }
 ],
 "metadata": {
  "kernelspec": {
   "display_name": "Python 3 (ipykernel)",
   "language": "python",
   "name": "python3"
  },
  "language_info": {
   "codemirror_mode": {
    "name": "ipython",
    "version": 3
   },
   "file_extension": ".py",
   "mimetype": "text/x-python",
   "name": "python",
   "nbconvert_exporter": "python",
   "pygments_lexer": "ipython3",
   "version": "3.10.8"
  }
 },
 "nbformat": 4,
 "nbformat_minor": 5
}
